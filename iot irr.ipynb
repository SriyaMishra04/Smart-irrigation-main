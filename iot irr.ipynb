{
 "cells": [
  {
   "cell_type": "code",
   "execution_count": 1,
   "id": "173caf88-b52a-4209-a304-109ef3cec852",
   "metadata": {
    "tags": []
   },
   "outputs": [],
   "source": [
    "import os\n",
    "import pandas as pd\n",
    "import numpy as np\n",
    "from sklearn.preprocessing import MinMaxScaler,OneHotEncoder,StandardScaler"
   ]
  },
  {
   "cell_type": "code",
   "execution_count": 2,
   "id": "9f07bde8-e4b9-426c-9659-8f3c19984124",
   "metadata": {
    "tags": []
   },
   "outputs": [],
   "source": [
    "df=pd.read_excel('enhanced_iot_smart_irrigation_data.xlsx',index_col=0,na_values=[\"??\",\"????\"])"
   ]
  },
  {
   "cell_type": "code",
   "execution_count": 3,
   "id": "3e0f039f-a2fe-4c26-bde9-3a375c053988",
   "metadata": {
    "tags": []
   },
   "outputs": [
    {
     "data": {
      "text/html": [
       "<div>\n",
       "<style scoped>\n",
       "    .dataframe tbody tr th:only-of-type {\n",
       "        vertical-align: middle;\n",
       "    }\n",
       "\n",
       "    .dataframe tbody tr th {\n",
       "        vertical-align: top;\n",
       "    }\n",
       "\n",
       "    .dataframe thead th {\n",
       "        text-align: right;\n",
       "    }\n",
       "</style>\n",
       "<table border=\"1\" class=\"dataframe\">\n",
       "  <thead>\n",
       "    <tr style=\"text-align: right;\">\n",
       "      <th></th>\n",
       "      <th>SoilMoisture</th>\n",
       "      <th>SoilTemperature</th>\n",
       "      <th>AirTemperature</th>\n",
       "      <th>Humidity</th>\n",
       "      <th>pH</th>\n",
       "      <th>WaterUsage</th>\n",
       "      <th>CropType</th>\n",
       "      <th>IrrigationSystemID</th>\n",
       "      <th>ReadingTimestamp</th>\n",
       "      <th>SolarRadiation</th>\n",
       "      <th>WindSpeed</th>\n",
       "    </tr>\n",
       "    <tr>\n",
       "      <th>FieldID</th>\n",
       "      <th></th>\n",
       "      <th></th>\n",
       "      <th></th>\n",
       "      <th></th>\n",
       "      <th></th>\n",
       "      <th></th>\n",
       "      <th></th>\n",
       "      <th></th>\n",
       "      <th></th>\n",
       "      <th></th>\n",
       "      <th></th>\n",
       "    </tr>\n",
       "  </thead>\n",
       "  <tbody>\n",
       "    <tr>\n",
       "      <th>1</th>\n",
       "      <td>75.497470</td>\n",
       "      <td>48.925443</td>\n",
       "      <td>65.755233</td>\n",
       "      <td>71.546882</td>\n",
       "      <td>6.033532</td>\n",
       "      <td>1271.276971</td>\n",
       "      <td>Wheat</td>\n",
       "      <td>977</td>\n",
       "      <td>2023-01-01 00:00:00</td>\n",
       "      <td>749.424232</td>\n",
       "      <td>12.986049</td>\n",
       "    </tr>\n",
       "    <tr>\n",
       "      <th>2</th>\n",
       "      <td>43.964037</td>\n",
       "      <td>31.746846</td>\n",
       "      <td>42.466567</td>\n",
       "      <td>39.497065</td>\n",
       "      <td>5.708924</td>\n",
       "      <td>725.819930</td>\n",
       "      <td>Other</td>\n",
       "      <td>435</td>\n",
       "      <td>2023-01-01 01:00:00</td>\n",
       "      <td>480.541085</td>\n",
       "      <td>10.227050</td>\n",
       "    </tr>\n",
       "    <tr>\n",
       "      <th>3</th>\n",
       "      <td>16.153563</td>\n",
       "      <td>16.320886</td>\n",
       "      <td>24.179632</td>\n",
       "      <td>50.153228</td>\n",
       "      <td>7.012193</td>\n",
       "      <td>518.045654</td>\n",
       "      <td>Corn</td>\n",
       "      <td>929</td>\n",
       "      <td>2023-01-01 02:00:00</td>\n",
       "      <td>284.859325</td>\n",
       "      <td>7.806262</td>\n",
       "    </tr>\n",
       "    <tr>\n",
       "      <th>4</th>\n",
       "      <td>66.240113</td>\n",
       "      <td>49.510807</td>\n",
       "      <td>65.823457</td>\n",
       "      <td>77.174326</td>\n",
       "      <td>6.813488</td>\n",
       "      <td>1163.743994</td>\n",
       "      <td>Wheat</td>\n",
       "      <td>375</td>\n",
       "      <td>2023-01-01 03:00:00</td>\n",
       "      <td>692.485906</td>\n",
       "      <td>11.424201</td>\n",
       "    </tr>\n",
       "    <tr>\n",
       "      <th>5</th>\n",
       "      <td>59.911154</td>\n",
       "      <td>36.991358</td>\n",
       "      <td>49.457836</td>\n",
       "      <td>79.649614</td>\n",
       "      <td>7.445098</td>\n",
       "      <td>1116.273164</td>\n",
       "      <td>Other</td>\n",
       "      <td>614</td>\n",
       "      <td>2023-01-01 04:00:00</td>\n",
       "      <td>558.182852</td>\n",
       "      <td>12.941625</td>\n",
       "    </tr>\n",
       "  </tbody>\n",
       "</table>\n",
       "</div>"
      ],
      "text/plain": [
       "         SoilMoisture  SoilTemperature  AirTemperature   Humidity        pH  \\\n",
       "FieldID                                                                       \n",
       "1           75.497470        48.925443       65.755233  71.546882  6.033532   \n",
       "2           43.964037        31.746846       42.466567  39.497065  5.708924   \n",
       "3           16.153563        16.320886       24.179632  50.153228  7.012193   \n",
       "4           66.240113        49.510807       65.823457  77.174326  6.813488   \n",
       "5           59.911154        36.991358       49.457836  79.649614  7.445098   \n",
       "\n",
       "          WaterUsage CropType  IrrigationSystemID    ReadingTimestamp  \\\n",
       "FieldID                                                                 \n",
       "1        1271.276971    Wheat                 977 2023-01-01 00:00:00   \n",
       "2         725.819930    Other                 435 2023-01-01 01:00:00   \n",
       "3         518.045654     Corn                 929 2023-01-01 02:00:00   \n",
       "4        1163.743994    Wheat                 375 2023-01-01 03:00:00   \n",
       "5        1116.273164    Other                 614 2023-01-01 04:00:00   \n",
       "\n",
       "         SolarRadiation  WindSpeed  \n",
       "FieldID                             \n",
       "1            749.424232  12.986049  \n",
       "2            480.541085  10.227050  \n",
       "3            284.859325   7.806262  \n",
       "4            692.485906  11.424201  \n",
       "5            558.182852  12.941625  "
      ]
     },
     "execution_count": 3,
     "metadata": {},
     "output_type": "execute_result"
    }
   ],
   "source": [
    "df.head()"
   ]
  },
  {
   "cell_type": "code",
   "execution_count": 4,
   "id": "127cbac2-f228-42a7-9d08-f7573636d0a9",
   "metadata": {
    "tags": []
   },
   "outputs": [
    {
     "data": {
      "text/html": [
       "<div>\n",
       "<style scoped>\n",
       "    .dataframe tbody tr th:only-of-type {\n",
       "        vertical-align: middle;\n",
       "    }\n",
       "\n",
       "    .dataframe tbody tr th {\n",
       "        vertical-align: top;\n",
       "    }\n",
       "\n",
       "    .dataframe thead th {\n",
       "        text-align: right;\n",
       "    }\n",
       "</style>\n",
       "<table border=\"1\" class=\"dataframe\">\n",
       "  <thead>\n",
       "    <tr style=\"text-align: right;\">\n",
       "      <th></th>\n",
       "      <th>SoilMoisture</th>\n",
       "      <th>SoilTemperature</th>\n",
       "      <th>AirTemperature</th>\n",
       "      <th>Humidity</th>\n",
       "      <th>pH</th>\n",
       "      <th>WaterUsage</th>\n",
       "      <th>CropType</th>\n",
       "      <th>IrrigationSystemID</th>\n",
       "      <th>ReadingTimestamp</th>\n",
       "      <th>SolarRadiation</th>\n",
       "      <th>WindSpeed</th>\n",
       "    </tr>\n",
       "    <tr>\n",
       "      <th>FieldID</th>\n",
       "      <th></th>\n",
       "      <th></th>\n",
       "      <th></th>\n",
       "      <th></th>\n",
       "      <th></th>\n",
       "      <th></th>\n",
       "      <th></th>\n",
       "      <th></th>\n",
       "      <th></th>\n",
       "      <th></th>\n",
       "      <th></th>\n",
       "    </tr>\n",
       "  </thead>\n",
       "  <tbody>\n",
       "    <tr>\n",
       "      <th>9996</th>\n",
       "      <td>21.301514</td>\n",
       "      <td>12.605141</td>\n",
       "      <td>21.303921</td>\n",
       "      <td>31.947493</td>\n",
       "      <td>7.509892</td>\n",
       "      <td>495.127997</td>\n",
       "      <td>Wheat</td>\n",
       "      <td>956</td>\n",
       "      <td>2024-02-21 11:00:00</td>\n",
       "      <td>248.589000</td>\n",
       "      <td>9.575284</td>\n",
       "    </tr>\n",
       "    <tr>\n",
       "      <th>9997</th>\n",
       "      <td>32.462397</td>\n",
       "      <td>25.544738</td>\n",
       "      <td>35.887922</td>\n",
       "      <td>40.515515</td>\n",
       "      <td>7.641782</td>\n",
       "      <td>643.519452</td>\n",
       "      <td>Wheat</td>\n",
       "      <td>918</td>\n",
       "      <td>2024-02-21 12:00:00</td>\n",
       "      <td>394.700169</td>\n",
       "      <td>9.602570</td>\n",
       "    </tr>\n",
       "    <tr>\n",
       "      <th>9998</th>\n",
       "      <td>38.218953</td>\n",
       "      <td>27.653245</td>\n",
       "      <td>36.687951</td>\n",
       "      <td>39.342030</td>\n",
       "      <td>7.122996</td>\n",
       "      <td>645.280473</td>\n",
       "      <td>Corn</td>\n",
       "      <td>852</td>\n",
       "      <td>2024-02-21 13:00:00</td>\n",
       "      <td>418.912590</td>\n",
       "      <td>10.128246</td>\n",
       "    </tr>\n",
       "    <tr>\n",
       "      <th>9999</th>\n",
       "      <td>22.648481</td>\n",
       "      <td>19.744687</td>\n",
       "      <td>31.193732</td>\n",
       "      <td>53.538394</td>\n",
       "      <td>7.976790</td>\n",
       "      <td>660.944974</td>\n",
       "      <td>Soybean</td>\n",
       "      <td>355</td>\n",
       "      <td>2024-02-21 14:00:00</td>\n",
       "      <td>351.726566</td>\n",
       "      <td>11.063472</td>\n",
       "    </tr>\n",
       "    <tr>\n",
       "      <th>10000</th>\n",
       "      <td>27.485332</td>\n",
       "      <td>28.672564</td>\n",
       "      <td>37.627770</td>\n",
       "      <td>56.517245</td>\n",
       "      <td>5.819209</td>\n",
       "      <td>661.789378</td>\n",
       "      <td>Wheat</td>\n",
       "      <td>395</td>\n",
       "      <td>2024-02-21 15:00:00</td>\n",
       "      <td>403.356418</td>\n",
       "      <td>11.055635</td>\n",
       "    </tr>\n",
       "  </tbody>\n",
       "</table>\n",
       "</div>"
      ],
      "text/plain": [
       "         SoilMoisture  SoilTemperature  AirTemperature   Humidity        pH  \\\n",
       "FieldID                                                                       \n",
       "9996        21.301514        12.605141       21.303921  31.947493  7.509892   \n",
       "9997        32.462397        25.544738       35.887922  40.515515  7.641782   \n",
       "9998        38.218953        27.653245       36.687951  39.342030  7.122996   \n",
       "9999        22.648481        19.744687       31.193732  53.538394  7.976790   \n",
       "10000       27.485332        28.672564       37.627770  56.517245  5.819209   \n",
       "\n",
       "         WaterUsage CropType  IrrigationSystemID    ReadingTimestamp  \\\n",
       "FieldID                                                                \n",
       "9996     495.127997    Wheat                 956 2024-02-21 11:00:00   \n",
       "9997     643.519452    Wheat                 918 2024-02-21 12:00:00   \n",
       "9998     645.280473     Corn                 852 2024-02-21 13:00:00   \n",
       "9999     660.944974  Soybean                 355 2024-02-21 14:00:00   \n",
       "10000    661.789378    Wheat                 395 2024-02-21 15:00:00   \n",
       "\n",
       "         SolarRadiation  WindSpeed  \n",
       "FieldID                             \n",
       "9996         248.589000   9.575284  \n",
       "9997         394.700169   9.602570  \n",
       "9998         418.912590  10.128246  \n",
       "9999         351.726566  11.063472  \n",
       "10000        403.356418  11.055635  "
      ]
     },
     "execution_count": 4,
     "metadata": {},
     "output_type": "execute_result"
    }
   ],
   "source": [
    "df.tail()"
   ]
  },
  {
   "cell_type": "code",
   "execution_count": 5,
   "id": "29d0678a-76ed-4428-9b90-ce5762f218c6",
   "metadata": {
    "tags": []
   },
   "outputs": [
    {
     "name": "stdout",
     "output_type": "stream",
     "text": [
      "<class 'pandas.core.frame.DataFrame'>\n",
      "Index: 10000 entries, 1 to 10000\n",
      "Data columns (total 11 columns):\n",
      " #   Column              Non-Null Count  Dtype         \n",
      "---  ------              --------------  -----         \n",
      " 0   SoilMoisture        10000 non-null  float64       \n",
      " 1   SoilTemperature     10000 non-null  float64       \n",
      " 2   AirTemperature      10000 non-null  float64       \n",
      " 3   Humidity            10000 non-null  float64       \n",
      " 4   pH                  10000 non-null  float64       \n",
      " 5   WaterUsage          10000 non-null  float64       \n",
      " 6   CropType            10000 non-null  object        \n",
      " 7   IrrigationSystemID  10000 non-null  int64         \n",
      " 8   ReadingTimestamp    10000 non-null  datetime64[ns]\n",
      " 9   SolarRadiation      10000 non-null  float64       \n",
      " 10  WindSpeed           10000 non-null  float64       \n",
      "dtypes: datetime64[ns](1), float64(8), int64(1), object(1)\n",
      "memory usage: 937.5+ KB\n"
     ]
    }
   ],
   "source": [
    "df.info()"
   ]
  },
  {
   "cell_type": "code",
   "execution_count": 6,
   "id": "5074a9c5-0d04-4719-a0ec-635480a3067f",
   "metadata": {
    "tags": []
   },
   "outputs": [
    {
     "data": {
      "text/html": [
       "<div>\n",
       "<style scoped>\n",
       "    .dataframe tbody tr th:only-of-type {\n",
       "        vertical-align: middle;\n",
       "    }\n",
       "\n",
       "    .dataframe tbody tr th {\n",
       "        vertical-align: top;\n",
       "    }\n",
       "\n",
       "    .dataframe thead th {\n",
       "        text-align: right;\n",
       "    }\n",
       "</style>\n",
       "<table border=\"1\" class=\"dataframe\">\n",
       "  <thead>\n",
       "    <tr style=\"text-align: right;\">\n",
       "      <th></th>\n",
       "      <th>SoilMoisture</th>\n",
       "      <th>SoilTemperature</th>\n",
       "      <th>AirTemperature</th>\n",
       "      <th>Humidity</th>\n",
       "      <th>pH</th>\n",
       "      <th>WaterUsage</th>\n",
       "      <th>IrrigationSystemID</th>\n",
       "      <th>ReadingTimestamp</th>\n",
       "      <th>SolarRadiation</th>\n",
       "      <th>WindSpeed</th>\n",
       "    </tr>\n",
       "  </thead>\n",
       "  <tbody>\n",
       "    <tr>\n",
       "      <th>count</th>\n",
       "      <td>10000.000000</td>\n",
       "      <td>10000.000000</td>\n",
       "      <td>10000.000000</td>\n",
       "      <td>10000.000000</td>\n",
       "      <td>10000.000000</td>\n",
       "      <td>10000.000000</td>\n",
       "      <td>10000.000000</td>\n",
       "      <td>10000</td>\n",
       "      <td>10000.000000</td>\n",
       "      <td>10000.000000</td>\n",
       "    </tr>\n",
       "    <tr>\n",
       "      <th>mean</th>\n",
       "      <td>45.107805</td>\n",
       "      <td>32.508253</td>\n",
       "      <td>44.016120</td>\n",
       "      <td>55.262556</td>\n",
       "      <td>6.500107</td>\n",
       "      <td>827.893112</td>\n",
       "      <td>550.379000</td>\n",
       "      <td>2023-07-28 07:30:00</td>\n",
       "      <td>489.836540</td>\n",
       "      <td>10.542592</td>\n",
       "    </tr>\n",
       "    <tr>\n",
       "      <th>min</th>\n",
       "      <td>10.003915</td>\n",
       "      <td>-0.934573</td>\n",
       "      <td>4.372139</td>\n",
       "      <td>-0.140601</td>\n",
       "      <td>5.000062</td>\n",
       "      <td>206.449578</td>\n",
       "      <td>100.000000</td>\n",
       "      <td>2023-01-01 00:00:00</td>\n",
       "      <td>89.428092</td>\n",
       "      <td>0.468333</td>\n",
       "    </tr>\n",
       "    <tr>\n",
       "      <th>25%</th>\n",
       "      <td>27.727109</td>\n",
       "      <td>23.766116</td>\n",
       "      <td>33.616312</td>\n",
       "      <td>45.065086</td>\n",
       "      <td>5.756877</td>\n",
       "      <td>613.926380</td>\n",
       "      <td>327.000000</td>\n",
       "      <td>2023-04-15 03:45:00</td>\n",
       "      <td>384.822077</td>\n",
       "      <td>8.888100</td>\n",
       "    </tr>\n",
       "    <tr>\n",
       "      <th>50%</th>\n",
       "      <td>45.165558</td>\n",
       "      <td>32.531021</td>\n",
       "      <td>43.979118</td>\n",
       "      <td>55.396310</td>\n",
       "      <td>6.487205</td>\n",
       "      <td>829.858637</td>\n",
       "      <td>546.000000</td>\n",
       "      <td>2023-07-28 07:30:00</td>\n",
       "      <td>488.791955</td>\n",
       "      <td>10.531866</td>\n",
       "    </tr>\n",
       "    <tr>\n",
       "      <th>75%</th>\n",
       "      <td>62.612741</td>\n",
       "      <td>41.350229</td>\n",
       "      <td>54.740259</td>\n",
       "      <td>65.645966</td>\n",
       "      <td>7.243624</td>\n",
       "      <td>1040.525528</td>\n",
       "      <td>773.000000</td>\n",
       "      <td>2023-11-09 11:15:00</td>\n",
       "      <td>597.335350</td>\n",
       "      <td>12.229202</td>\n",
       "    </tr>\n",
       "    <tr>\n",
       "      <th>max</th>\n",
       "      <td>79.996159</td>\n",
       "      <td>64.925464</td>\n",
       "      <td>84.095603</td>\n",
       "      <td>104.304369</td>\n",
       "      <td>7.999901</td>\n",
       "      <td>1466.469616</td>\n",
       "      <td>999.000000</td>\n",
       "      <td>2024-02-21 15:00:00</td>\n",
       "      <td>906.990364</td>\n",
       "      <td>19.795071</td>\n",
       "    </tr>\n",
       "    <tr>\n",
       "      <th>std</th>\n",
       "      <td>20.178208</td>\n",
       "      <td>11.206733</td>\n",
       "      <td>13.590616</td>\n",
       "      <td>14.685234</td>\n",
       "      <td>0.861459</td>\n",
       "      <td>261.046217</td>\n",
       "      <td>259.553263</td>\n",
       "      <td>NaN</td>\n",
       "      <td>137.098705</td>\n",
       "      <td>2.469727</td>\n",
       "    </tr>\n",
       "  </tbody>\n",
       "</table>\n",
       "</div>"
      ],
      "text/plain": [
       "       SoilMoisture  SoilTemperature  AirTemperature      Humidity  \\\n",
       "count  10000.000000     10000.000000    10000.000000  10000.000000   \n",
       "mean      45.107805        32.508253       44.016120     55.262556   \n",
       "min       10.003915        -0.934573        4.372139     -0.140601   \n",
       "25%       27.727109        23.766116       33.616312     45.065086   \n",
       "50%       45.165558        32.531021       43.979118     55.396310   \n",
       "75%       62.612741        41.350229       54.740259     65.645966   \n",
       "max       79.996159        64.925464       84.095603    104.304369   \n",
       "std       20.178208        11.206733       13.590616     14.685234   \n",
       "\n",
       "                 pH    WaterUsage  IrrigationSystemID     ReadingTimestamp  \\\n",
       "count  10000.000000  10000.000000        10000.000000                10000   \n",
       "mean       6.500107    827.893112          550.379000  2023-07-28 07:30:00   \n",
       "min        5.000062    206.449578          100.000000  2023-01-01 00:00:00   \n",
       "25%        5.756877    613.926380          327.000000  2023-04-15 03:45:00   \n",
       "50%        6.487205    829.858637          546.000000  2023-07-28 07:30:00   \n",
       "75%        7.243624   1040.525528          773.000000  2023-11-09 11:15:00   \n",
       "max        7.999901   1466.469616          999.000000  2024-02-21 15:00:00   \n",
       "std        0.861459    261.046217          259.553263                  NaN   \n",
       "\n",
       "       SolarRadiation     WindSpeed  \n",
       "count    10000.000000  10000.000000  \n",
       "mean       489.836540     10.542592  \n",
       "min         89.428092      0.468333  \n",
       "25%        384.822077      8.888100  \n",
       "50%        488.791955     10.531866  \n",
       "75%        597.335350     12.229202  \n",
       "max        906.990364     19.795071  \n",
       "std        137.098705      2.469727  "
      ]
     },
     "execution_count": 6,
     "metadata": {},
     "output_type": "execute_result"
    }
   ],
   "source": [
    "df.describe()"
   ]
  },
  {
   "cell_type": "code",
   "execution_count": 7,
   "id": "029b6270-173f-4ace-b7ef-ee644b4042b2",
   "metadata": {
    "tags": []
   },
   "outputs": [
    {
     "data": {
      "text/plain": [
       "(10000, 11)"
      ]
     },
     "execution_count": 7,
     "metadata": {},
     "output_type": "execute_result"
    }
   ],
   "source": [
    "df.shape"
   ]
  },
  {
   "cell_type": "code",
   "execution_count": 8,
   "id": "4d046d3f-f78e-43ee-8aec-ca32dc1ce892",
   "metadata": {
    "tags": []
   },
   "outputs": [
    {
     "data": {
      "text/plain": [
       "SoilMoisture          0\n",
       "SoilTemperature       0\n",
       "AirTemperature        0\n",
       "Humidity              0\n",
       "pH                    0\n",
       "WaterUsage            0\n",
       "CropType              0\n",
       "IrrigationSystemID    0\n",
       "ReadingTimestamp      0\n",
       "SolarRadiation        0\n",
       "WindSpeed             0\n",
       "dtype: int64"
      ]
     },
     "execution_count": 8,
     "metadata": {},
     "output_type": "execute_result"
    }
   ],
   "source": [
    "df.isnull().sum()"
   ]
  },
  {
   "cell_type": "code",
   "execution_count": 9,
   "id": "56db0d34-d8f2-4326-b074-1f696c6162d7",
   "metadata": {
    "tags": []
   },
   "outputs": [
    {
     "data": {
      "text/plain": [
       "0"
      ]
     },
     "execution_count": 9,
     "metadata": {},
     "output_type": "execute_result"
    }
   ],
   "source": [
    "df.duplicated().sum()"
   ]
  },
  {
   "cell_type": "code",
   "execution_count": 10,
   "id": "8ee07f9f-07e9-4d79-b66e-1c23225ae3c8",
   "metadata": {
    "tags": []
   },
   "outputs": [
    {
     "data": {
      "text/plain": [
       "SoilMoisture                 float64\n",
       "SoilTemperature              float64\n",
       "AirTemperature               float64\n",
       "Humidity                     float64\n",
       "pH                           float64\n",
       "WaterUsage                   float64\n",
       "CropType                      object\n",
       "IrrigationSystemID             int64\n",
       "ReadingTimestamp      datetime64[ns]\n",
       "SolarRadiation               float64\n",
       "WindSpeed                    float64\n",
       "dtype: object"
      ]
     },
     "execution_count": 10,
     "metadata": {},
     "output_type": "execute_result"
    }
   ],
   "source": [
    "df.dtypes"
   ]
  },
  {
   "cell_type": "code",
   "execution_count": 11,
   "id": "0ef93430-0df3-4c18-844d-21b31e2eee2e",
   "metadata": {
    "tags": []
   },
   "outputs": [
    {
     "data": {
      "text/plain": [
       "array(['Wheat', 'Other', 'Corn', 'Soybean'], dtype=object)"
      ]
     },
     "execution_count": 11,
     "metadata": {},
     "output_type": "execute_result"
    }
   ],
   "source": [
    "df['CropType'].unique()"
   ]
  },
  {
   "cell_type": "code",
   "execution_count": 12,
   "id": "59fccd94-a985-4973-859c-ee4df11c5ec0",
   "metadata": {
    "tags": []
   },
   "outputs": [
    {
     "name": "stdout",
     "output_type": "stream",
     "text": [
      "\u001b[5m\u001b[7m\u001b[33mNormalization ...\u001b[0m\n"
     ]
    }
   ],
   "source": [
    "\n",
    "from mlintern010 import Scaler, EDA\n",
    "final_df= Scaler.Normalization(df)\n",
    "\n",
    "final_df['CropType'] = final_df['CropType'].map({\n",
    "    'Corn':1,\n",
    "    'Soybean':2,\n",
    "    'Other':5,\n",
    "    'Rice':3,\n",
    "    'Wheat':4\n",
    "})"
   ]
  },
  {
   "cell_type": "code",
   "execution_count": 13,
   "id": "20cbf63f-f2dc-438e-ac44-99331ccd910d",
   "metadata": {
    "tags": []
   },
   "outputs": [
    {
     "data": {
      "text/html": [
       "<div>\n",
       "<style scoped>\n",
       "    .dataframe tbody tr th:only-of-type {\n",
       "        vertical-align: middle;\n",
       "    }\n",
       "\n",
       "    .dataframe tbody tr th {\n",
       "        vertical-align: top;\n",
       "    }\n",
       "\n",
       "    .dataframe thead th {\n",
       "        text-align: right;\n",
       "    }\n",
       "</style>\n",
       "<table border=\"1\" class=\"dataframe\">\n",
       "  <thead>\n",
       "    <tr style=\"text-align: right;\">\n",
       "      <th></th>\n",
       "      <th>SoilMoisture</th>\n",
       "      <th>SoilTemperature</th>\n",
       "      <th>AirTemperature</th>\n",
       "      <th>Humidity</th>\n",
       "      <th>pH</th>\n",
       "      <th>WaterUsage</th>\n",
       "      <th>CropType</th>\n",
       "      <th>IrrigationSystemID</th>\n",
       "      <th>ReadingTimestamp</th>\n",
       "      <th>SolarRadiation</th>\n",
       "      <th>WindSpeed</th>\n",
       "    </tr>\n",
       "    <tr>\n",
       "      <th>FieldID</th>\n",
       "      <th></th>\n",
       "      <th></th>\n",
       "      <th></th>\n",
       "      <th></th>\n",
       "      <th></th>\n",
       "      <th></th>\n",
       "      <th></th>\n",
       "      <th></th>\n",
       "      <th></th>\n",
       "      <th></th>\n",
       "      <th></th>\n",
       "    </tr>\n",
       "  </thead>\n",
       "  <tbody>\n",
       "    <tr>\n",
       "      <th>1</th>\n",
       "      <td>0.935726</td>\n",
       "      <td>0.757060</td>\n",
       "      <td>0.769950</td>\n",
       "      <td>0.686366</td>\n",
       "      <td>0.344509</td>\n",
       "      <td>0.845088</td>\n",
       "      <td>4</td>\n",
       "      <td>0.975528</td>\n",
       "      <td>2023-01-01 00:00:00</td>\n",
       "      <td>0.807273</td>\n",
       "      <td>0.647689</td>\n",
       "    </tr>\n",
       "    <tr>\n",
       "      <th>2</th>\n",
       "      <td>0.485198</td>\n",
       "      <td>0.496225</td>\n",
       "      <td>0.477832</td>\n",
       "      <td>0.379508</td>\n",
       "      <td>0.236300</td>\n",
       "      <td>0.412192</td>\n",
       "      <td>5</td>\n",
       "      <td>0.372636</td>\n",
       "      <td>2023-01-01 01:00:00</td>\n",
       "      <td>0.478389</td>\n",
       "      <td>0.504933</td>\n",
       "    </tr>\n",
       "    <tr>\n",
       "      <th>3</th>\n",
       "      <td>0.087862</td>\n",
       "      <td>0.262002</td>\n",
       "      <td>0.248452</td>\n",
       "      <td>0.481534</td>\n",
       "      <td>0.670746</td>\n",
       "      <td>0.247295</td>\n",
       "      <td>1</td>\n",
       "      <td>0.922136</td>\n",
       "      <td>2023-01-01 02:00:00</td>\n",
       "      <td>0.239041</td>\n",
       "      <td>0.379678</td>\n",
       "    </tr>\n",
       "    <tr>\n",
       "      <th>4</th>\n",
       "      <td>0.803463</td>\n",
       "      <td>0.765948</td>\n",
       "      <td>0.770806</td>\n",
       "      <td>0.740246</td>\n",
       "      <td>0.604508</td>\n",
       "      <td>0.759745</td>\n",
       "      <td>4</td>\n",
       "      <td>0.305895</td>\n",
       "      <td>2023-01-01 03:00:00</td>\n",
       "      <td>0.737629</td>\n",
       "      <td>0.566876</td>\n",
       "    </tr>\n",
       "    <tr>\n",
       "      <th>5</th>\n",
       "      <td>0.713040</td>\n",
       "      <td>0.575857</td>\n",
       "      <td>0.565526</td>\n",
       "      <td>0.763945</td>\n",
       "      <td>0.815056</td>\n",
       "      <td>0.722071</td>\n",
       "      <td>5</td>\n",
       "      <td>0.571746</td>\n",
       "      <td>2023-01-01 04:00:00</td>\n",
       "      <td>0.573357</td>\n",
       "      <td>0.645390</td>\n",
       "    </tr>\n",
       "    <tr>\n",
       "      <th>...</th>\n",
       "      <td>...</td>\n",
       "      <td>...</td>\n",
       "      <td>...</td>\n",
       "      <td>...</td>\n",
       "      <td>...</td>\n",
       "      <td>...</td>\n",
       "      <td>...</td>\n",
       "      <td>...</td>\n",
       "      <td>...</td>\n",
       "      <td>...</td>\n",
       "      <td>...</td>\n",
       "    </tr>\n",
       "    <tr>\n",
       "      <th>9996</th>\n",
       "      <td>0.161412</td>\n",
       "      <td>0.205583</td>\n",
       "      <td>0.212381</td>\n",
       "      <td>0.307225</td>\n",
       "      <td>0.836655</td>\n",
       "      <td>0.229106</td>\n",
       "      <td>4</td>\n",
       "      <td>0.952169</td>\n",
       "      <td>2024-02-21 11:00:00</td>\n",
       "      <td>0.194677</td>\n",
       "      <td>0.471210</td>\n",
       "    </tr>\n",
       "    <tr>\n",
       "      <th>9997</th>\n",
       "      <td>0.320871</td>\n",
       "      <td>0.402054</td>\n",
       "      <td>0.395314</td>\n",
       "      <td>0.389259</td>\n",
       "      <td>0.880621</td>\n",
       "      <td>0.346875</td>\n",
       "      <td>4</td>\n",
       "      <td>0.909900</td>\n",
       "      <td>2024-02-21 12:00:00</td>\n",
       "      <td>0.373393</td>\n",
       "      <td>0.472622</td>\n",
       "    </tr>\n",
       "    <tr>\n",
       "      <th>9998</th>\n",
       "      <td>0.403117</td>\n",
       "      <td>0.434069</td>\n",
       "      <td>0.405349</td>\n",
       "      <td>0.378023</td>\n",
       "      <td>0.707683</td>\n",
       "      <td>0.348273</td>\n",
       "      <td>1</td>\n",
       "      <td>0.836485</td>\n",
       "      <td>2024-02-21 13:00:00</td>\n",
       "      <td>0.403008</td>\n",
       "      <td>0.499821</td>\n",
       "    </tr>\n",
       "    <tr>\n",
       "      <th>9999</th>\n",
       "      <td>0.180657</td>\n",
       "      <td>0.313988</td>\n",
       "      <td>0.336433</td>\n",
       "      <td>0.513945</td>\n",
       "      <td>0.992296</td>\n",
       "      <td>0.360705</td>\n",
       "      <td>2</td>\n",
       "      <td>0.283648</td>\n",
       "      <td>2024-02-21 14:00:00</td>\n",
       "      <td>0.320830</td>\n",
       "      <td>0.548211</td>\n",
       "    </tr>\n",
       "    <tr>\n",
       "      <th>10000</th>\n",
       "      <td>0.249762</td>\n",
       "      <td>0.449546</td>\n",
       "      <td>0.417137</td>\n",
       "      <td>0.542466</td>\n",
       "      <td>0.273064</td>\n",
       "      <td>0.361375</td>\n",
       "      <td>4</td>\n",
       "      <td>0.328142</td>\n",
       "      <td>2024-02-21 15:00:00</td>\n",
       "      <td>0.383981</td>\n",
       "      <td>0.547806</td>\n",
       "    </tr>\n",
       "  </tbody>\n",
       "</table>\n",
       "<p>10000 rows × 11 columns</p>\n",
       "</div>"
      ],
      "text/plain": [
       "         SoilMoisture  SoilTemperature  AirTemperature  Humidity        pH  \\\n",
       "FieldID                                                                      \n",
       "1            0.935726         0.757060        0.769950  0.686366  0.344509   \n",
       "2            0.485198         0.496225        0.477832  0.379508  0.236300   \n",
       "3            0.087862         0.262002        0.248452  0.481534  0.670746   \n",
       "4            0.803463         0.765948        0.770806  0.740246  0.604508   \n",
       "5            0.713040         0.575857        0.565526  0.763945  0.815056   \n",
       "...               ...              ...             ...       ...       ...   \n",
       "9996         0.161412         0.205583        0.212381  0.307225  0.836655   \n",
       "9997         0.320871         0.402054        0.395314  0.389259  0.880621   \n",
       "9998         0.403117         0.434069        0.405349  0.378023  0.707683   \n",
       "9999         0.180657         0.313988        0.336433  0.513945  0.992296   \n",
       "10000        0.249762         0.449546        0.417137  0.542466  0.273064   \n",
       "\n",
       "         WaterUsage  CropType  IrrigationSystemID    ReadingTimestamp  \\\n",
       "FieldID                                                                 \n",
       "1          0.845088         4            0.975528 2023-01-01 00:00:00   \n",
       "2          0.412192         5            0.372636 2023-01-01 01:00:00   \n",
       "3          0.247295         1            0.922136 2023-01-01 02:00:00   \n",
       "4          0.759745         4            0.305895 2023-01-01 03:00:00   \n",
       "5          0.722071         5            0.571746 2023-01-01 04:00:00   \n",
       "...             ...       ...                 ...                 ...   \n",
       "9996       0.229106         4            0.952169 2024-02-21 11:00:00   \n",
       "9997       0.346875         4            0.909900 2024-02-21 12:00:00   \n",
       "9998       0.348273         1            0.836485 2024-02-21 13:00:00   \n",
       "9999       0.360705         2            0.283648 2024-02-21 14:00:00   \n",
       "10000      0.361375         4            0.328142 2024-02-21 15:00:00   \n",
       "\n",
       "         SolarRadiation  WindSpeed  \n",
       "FieldID                             \n",
       "1              0.807273   0.647689  \n",
       "2              0.478389   0.504933  \n",
       "3              0.239041   0.379678  \n",
       "4              0.737629   0.566876  \n",
       "5              0.573357   0.645390  \n",
       "...                 ...        ...  \n",
       "9996           0.194677   0.471210  \n",
       "9997           0.373393   0.472622  \n",
       "9998           0.403008   0.499821  \n",
       "9999           0.320830   0.548211  \n",
       "10000          0.383981   0.547806  \n",
       "\n",
       "[10000 rows x 11 columns]"
      ]
     },
     "execution_count": 13,
     "metadata": {},
     "output_type": "execute_result"
    }
   ],
   "source": [
    "final_df"
   ]
  },
  {
   "cell_type": "code",
   "execution_count": 14,
   "id": "f8813659-5414-433a-bad4-e50d742ec9aa",
   "metadata": {
    "tags": []
   },
   "outputs": [
    {
     "data": {
      "text/html": [
       "<div>\n",
       "<style scoped>\n",
       "    .dataframe tbody tr th:only-of-type {\n",
       "        vertical-align: middle;\n",
       "    }\n",
       "\n",
       "    .dataframe tbody tr th {\n",
       "        vertical-align: top;\n",
       "    }\n",
       "\n",
       "    .dataframe thead th {\n",
       "        text-align: right;\n",
       "    }\n",
       "</style>\n",
       "<table border=\"1\" class=\"dataframe\">\n",
       "  <thead>\n",
       "    <tr style=\"text-align: right;\">\n",
       "      <th></th>\n",
       "      <th>SoilMoisture</th>\n",
       "      <th>SoilTemperature</th>\n",
       "      <th>AirTemperature</th>\n",
       "      <th>Humidity</th>\n",
       "      <th>pH</th>\n",
       "      <th>WaterUsage</th>\n",
       "      <th>CropType</th>\n",
       "      <th>IrrigationSystemID</th>\n",
       "      <th>ReadingTimestamp</th>\n",
       "      <th>SolarRadiation</th>\n",
       "      <th>WindSpeed</th>\n",
       "    </tr>\n",
       "  </thead>\n",
       "  <tbody>\n",
       "    <tr>\n",
       "      <th>SoilMoisture</th>\n",
       "      <td>1.000000</td>\n",
       "      <td>0.896766</td>\n",
       "      <td>0.887297</td>\n",
       "      <td>0.651221</td>\n",
       "      <td>-0.012303</td>\n",
       "      <td>0.957196</td>\n",
       "      <td>0.007545</td>\n",
       "      <td>0.016784</td>\n",
       "      <td>0.001970</td>\n",
       "      <td>0.877803</td>\n",
       "      <td>0.380191</td>\n",
       "    </tr>\n",
       "    <tr>\n",
       "      <th>SoilTemperature</th>\n",
       "      <td>0.896766</td>\n",
       "      <td>1.000000</td>\n",
       "      <td>0.989012</td>\n",
       "      <td>0.731250</td>\n",
       "      <td>-0.005022</td>\n",
       "      <td>0.900339</td>\n",
       "      <td>0.003431</td>\n",
       "      <td>0.015878</td>\n",
       "      <td>0.003495</td>\n",
       "      <td>0.978165</td>\n",
       "      <td>0.431248</td>\n",
       "    </tr>\n",
       "    <tr>\n",
       "      <th>AirTemperature</th>\n",
       "      <td>0.887297</td>\n",
       "      <td>0.989012</td>\n",
       "      <td>1.000000</td>\n",
       "      <td>0.738438</td>\n",
       "      <td>-0.004076</td>\n",
       "      <td>0.895536</td>\n",
       "      <td>0.004646</td>\n",
       "      <td>0.015248</td>\n",
       "      <td>0.002608</td>\n",
       "      <td>0.989112</td>\n",
       "      <td>0.434304</td>\n",
       "    </tr>\n",
       "    <tr>\n",
       "      <th>Humidity</th>\n",
       "      <td>0.651221</td>\n",
       "      <td>0.731250</td>\n",
       "      <td>0.738438</td>\n",
       "      <td>1.000000</td>\n",
       "      <td>-0.004476</td>\n",
       "      <td>0.786590</td>\n",
       "      <td>-0.011264</td>\n",
       "      <td>0.014452</td>\n",
       "      <td>0.005300</td>\n",
       "      <td>0.731793</td>\n",
       "      <td>0.588907</td>\n",
       "    </tr>\n",
       "    <tr>\n",
       "      <th>pH</th>\n",
       "      <td>-0.012303</td>\n",
       "      <td>-0.005022</td>\n",
       "      <td>-0.004076</td>\n",
       "      <td>-0.004476</td>\n",
       "      <td>1.000000</td>\n",
       "      <td>-0.009364</td>\n",
       "      <td>-0.007531</td>\n",
       "      <td>0.005013</td>\n",
       "      <td>0.000679</td>\n",
       "      <td>-0.005163</td>\n",
       "      <td>0.004173</td>\n",
       "    </tr>\n",
       "    <tr>\n",
       "      <th>WaterUsage</th>\n",
       "      <td>0.957196</td>\n",
       "      <td>0.900339</td>\n",
       "      <td>0.895536</td>\n",
       "      <td>0.786590</td>\n",
       "      <td>-0.009364</td>\n",
       "      <td>1.000000</td>\n",
       "      <td>0.000094</td>\n",
       "      <td>0.018465</td>\n",
       "      <td>0.005336</td>\n",
       "      <td>0.886117</td>\n",
       "      <td>0.461905</td>\n",
       "    </tr>\n",
       "    <tr>\n",
       "      <th>CropType</th>\n",
       "      <td>0.007545</td>\n",
       "      <td>0.003431</td>\n",
       "      <td>0.004646</td>\n",
       "      <td>-0.011264</td>\n",
       "      <td>-0.007531</td>\n",
       "      <td>0.000094</td>\n",
       "      <td>1.000000</td>\n",
       "      <td>-0.004382</td>\n",
       "      <td>-0.019689</td>\n",
       "      <td>0.002548</td>\n",
       "      <td>-0.005108</td>\n",
       "    </tr>\n",
       "    <tr>\n",
       "      <th>IrrigationSystemID</th>\n",
       "      <td>0.016784</td>\n",
       "      <td>0.015878</td>\n",
       "      <td>0.015248</td>\n",
       "      <td>0.014452</td>\n",
       "      <td>0.005013</td>\n",
       "      <td>0.018465</td>\n",
       "      <td>-0.004382</td>\n",
       "      <td>1.000000</td>\n",
       "      <td>-0.003128</td>\n",
       "      <td>0.016934</td>\n",
       "      <td>0.019007</td>\n",
       "    </tr>\n",
       "    <tr>\n",
       "      <th>ReadingTimestamp</th>\n",
       "      <td>0.001970</td>\n",
       "      <td>0.003495</td>\n",
       "      <td>0.002608</td>\n",
       "      <td>0.005300</td>\n",
       "      <td>0.000679</td>\n",
       "      <td>0.005336</td>\n",
       "      <td>-0.019689</td>\n",
       "      <td>-0.003128</td>\n",
       "      <td>1.000000</td>\n",
       "      <td>-0.000637</td>\n",
       "      <td>0.019206</td>\n",
       "    </tr>\n",
       "    <tr>\n",
       "      <th>SolarRadiation</th>\n",
       "      <td>0.877803</td>\n",
       "      <td>0.978165</td>\n",
       "      <td>0.989112</td>\n",
       "      <td>0.731793</td>\n",
       "      <td>-0.005163</td>\n",
       "      <td>0.886117</td>\n",
       "      <td>0.002548</td>\n",
       "      <td>0.016934</td>\n",
       "      <td>-0.000637</td>\n",
       "      <td>1.000000</td>\n",
       "      <td>0.430962</td>\n",
       "    </tr>\n",
       "    <tr>\n",
       "      <th>WindSpeed</th>\n",
       "      <td>0.380191</td>\n",
       "      <td>0.431248</td>\n",
       "      <td>0.434304</td>\n",
       "      <td>0.588907</td>\n",
       "      <td>0.004173</td>\n",
       "      <td>0.461905</td>\n",
       "      <td>-0.005108</td>\n",
       "      <td>0.019007</td>\n",
       "      <td>0.019206</td>\n",
       "      <td>0.430962</td>\n",
       "      <td>1.000000</td>\n",
       "    </tr>\n",
       "  </tbody>\n",
       "</table>\n",
       "</div>"
      ],
      "text/plain": [
       "                    SoilMoisture  SoilTemperature  AirTemperature  Humidity  \\\n",
       "SoilMoisture            1.000000         0.896766        0.887297  0.651221   \n",
       "SoilTemperature         0.896766         1.000000        0.989012  0.731250   \n",
       "AirTemperature          0.887297         0.989012        1.000000  0.738438   \n",
       "Humidity                0.651221         0.731250        0.738438  1.000000   \n",
       "pH                     -0.012303        -0.005022       -0.004076 -0.004476   \n",
       "WaterUsage              0.957196         0.900339        0.895536  0.786590   \n",
       "CropType                0.007545         0.003431        0.004646 -0.011264   \n",
       "IrrigationSystemID      0.016784         0.015878        0.015248  0.014452   \n",
       "ReadingTimestamp        0.001970         0.003495        0.002608  0.005300   \n",
       "SolarRadiation          0.877803         0.978165        0.989112  0.731793   \n",
       "WindSpeed               0.380191         0.431248        0.434304  0.588907   \n",
       "\n",
       "                          pH  WaterUsage  CropType  IrrigationSystemID  \\\n",
       "SoilMoisture       -0.012303    0.957196  0.007545            0.016784   \n",
       "SoilTemperature    -0.005022    0.900339  0.003431            0.015878   \n",
       "AirTemperature     -0.004076    0.895536  0.004646            0.015248   \n",
       "Humidity           -0.004476    0.786590 -0.011264            0.014452   \n",
       "pH                  1.000000   -0.009364 -0.007531            0.005013   \n",
       "WaterUsage         -0.009364    1.000000  0.000094            0.018465   \n",
       "CropType           -0.007531    0.000094  1.000000           -0.004382   \n",
       "IrrigationSystemID  0.005013    0.018465 -0.004382            1.000000   \n",
       "ReadingTimestamp    0.000679    0.005336 -0.019689           -0.003128   \n",
       "SolarRadiation     -0.005163    0.886117  0.002548            0.016934   \n",
       "WindSpeed           0.004173    0.461905 -0.005108            0.019007   \n",
       "\n",
       "                    ReadingTimestamp  SolarRadiation  WindSpeed  \n",
       "SoilMoisture                0.001970        0.877803   0.380191  \n",
       "SoilTemperature             0.003495        0.978165   0.431248  \n",
       "AirTemperature              0.002608        0.989112   0.434304  \n",
       "Humidity                    0.005300        0.731793   0.588907  \n",
       "pH                          0.000679       -0.005163   0.004173  \n",
       "WaterUsage                  0.005336        0.886117   0.461905  \n",
       "CropType                   -0.019689        0.002548  -0.005108  \n",
       "IrrigationSystemID         -0.003128        0.016934   0.019007  \n",
       "ReadingTimestamp            1.000000       -0.000637   0.019206  \n",
       "SolarRadiation             -0.000637        1.000000   0.430962  \n",
       "WindSpeed                   0.019206        0.430962   1.000000  "
      ]
     },
     "execution_count": 14,
     "metadata": {},
     "output_type": "execute_result"
    }
   ],
   "source": [
    "final_df.corr()"
   ]
  },
  {
   "cell_type": "markdown",
   "id": "d3250590-667c-4eba-b322-e6596ea23900",
   "metadata": {
    "tags": []
   },
   "source": [
    "# Line Chart for Soil Moisture Over Time"
   ]
  },
  {
   "cell_type": "code",
   "execution_count": 15,
   "id": "400c595c-4cb8-4e36-8661-9342dece85c8",
   "metadata": {
    "tags": []
   },
   "outputs": [
    {
     "data": {
      "image/png": "[encoded data removed]",
      "text/plain": [
       "<Figure size 1200x600 with 1 Axes>"
      ]
     },
     "metadata": {},
     "output_type": "display_data"
    }
   ],
   "source": [
    "import matplotlib.pyplot as plt\n",
    "\n",
    "# Convert 'ReadingTimestamp' to datetime\n",
    "df['ReadingTimestamp'] = pd.to_datetime(df['ReadingTimestamp'])\n",
    "\n",
    "# Plot Soil Moisture over time\n",
    "plt.figure(figsize=(12, 6))\n",
    "plt.plot(df['ReadingTimestamp'], df['SoilMoisture'], marker='o', linestyle='-')\n",
    "plt.title('Soil Moisture Over Time')\n",
    "plt.xlabel('Time')\n",
    "plt.ylabel('Soil Moisture (%)')\n",
    "plt.grid(True)\n",
    "plt.show()\n"
   ]
  },
  {
   "cell_type": "markdown",
   "id": "326f63e9-6dbf-49cd-8576-9c9e7e6689a3",
   "metadata": {},
   "source": [
    "# Plot Scatter Plot for Soil Moisture vs. Water Usage"
   ]
  },
  {
   "cell_type": "code",
   "execution_count": 16,
   "id": "99614a3e-b254-4744-8023-0995c1daca20",
   "metadata": {
    "tags": []
   },
   "outputs": [
    {
     "data": {
      "image/png": "[encoded data removed]",
      "text/plain": [
       "<Figure size 1200x600 with 1 Axes>"
      ]
     },
     "metadata": {},
     "output_type": "display_data"
    }
   ],
   "source": [
    "\n",
    "plt.figure(figsize=(12, 6))\n",
    "plt.scatter(df['SoilMoisture'], df['WaterUsage'], alpha=0.5)\n",
    "plt.title('Soil Moisture vs. Water Usage')\n",
    "plt.xlabel('Soil Moisture (%)')\n",
    "plt.ylabel('Water Usage')\n",
    "plt.grid(True)\n",
    "plt.show()\n"
   ]
  },
  {
   "cell_type": "markdown",
   "id": "19400120-3fcd-4354-b4ad-e4c2fa30e613",
   "metadata": {},
   "source": [
    "# Plot 2: Air Temperature Over Time\n"
   ]
  },
  {
   "cell_type": "code",
   "execution_count": 17,
   "id": "18744b6f-c0c4-4bc1-91b4-a3cb787f620e",
   "metadata": {
    "tags": []
   },
   "outputs": [
    {
     "data": {
      "image/png": "[encoded data removed]",
      "text/plain": [
       "<Figure size 1200x600 with 1 Axes>"
      ]
     },
     "metadata": {},
     "output_type": "display_data"
    }
   ],
   "source": [
    "plt.figure(figsize=(12, 6))\n",
    "plt.plot(df['ReadingTimestamp'], df['AirTemperature'], marker='o', linestyle='-')\n",
    "plt.title('Air Temperature Over Time')\n",
    "plt.xlabel('Time')\n",
    "plt.ylabel('Air Temperature (°C)')\n",
    "plt.grid(True)\n",
    "plt.show()\n"
   ]
  },
  {
   "cell_type": "code",
   "execution_count": 18,
   "id": "4846f4db-9d9d-4a66-bc68-7d042713d379",
   "metadata": {
    "tags": []
   },
   "outputs": [
    {
     "name": "stdout",
     "output_type": "stream",
     "text": [
      "<class 'pandas.core.frame.DataFrame'>\n",
      "Index: 10000 entries, 1 to 10000\n",
      "Data columns (total 11 columns):\n",
      " #   Column              Non-Null Count  Dtype         \n",
      "---  ------              --------------  -----         \n",
      " 0   SoilMoisture        10000 non-null  float64       \n",
      " 1   SoilTemperature     10000 non-null  float64       \n",
      " 2   AirTemperature      10000 non-null  float64       \n",
      " 3   Humidity            10000 non-null  float64       \n",
      " 4   pH                  10000 non-null  float64       \n",
      " 5   WaterUsage          10000 non-null  float64       \n",
      " 6   CropType            10000 non-null  int64         \n",
      " 7   IrrigationSystemID  10000 non-null  float64       \n",
      " 8   ReadingTimestamp    10000 non-null  datetime64[ns]\n",
      " 9   SolarRadiation      10000 non-null  float64       \n",
      " 10  WindSpeed           10000 non-null  float64       \n",
      "dtypes: datetime64[ns](1), float64(9), int64(1)\n",
      "memory usage: 937.5 KB\n"
     ]
    }
   ],
   "source": [
    "final_df.info()"
   ]
  },
  {
   "cell_type": "code",
   "execution_count": 39,
   "id": "f2ca4814-7e0b-49c3-9729-0926452e644f",
   "metadata": {
    "tags": []
   },
   "outputs": [],
   "source": [
    "X = final_df.drop(['WaterUsage','ReadingTimestamp','IrrigationSystemID'],axis=1)\n",
    "y = final_df['WaterUsage']"
   ]
  },
  {
   "cell_type": "code",
   "execution_count": 40,
   "id": "07414440-1199-46bb-a23d-5e5d8befcfd6",
   "metadata": {
    "tags": []
   },
   "outputs": [],
   "source": [
    "from sklearn.model_selection import train_test_split"
   ]
  },
  {
   "cell_type": "code",
   "execution_count": 41,
   "id": "559ae5ad-c450-4738-82c4-158364a58092",
   "metadata": {},
   "outputs": [],
   "source": [
    "xtrain, xtest, ytrain, ytest = train_test_split(X,y, test_size=0.20, random_state=5)"
   ]
  },
  {
   "cell_type": "markdown",
   "id": "893c7dc2-aaef-4f82-8d21-c73a6bf29383",
   "metadata": {
    "tags": []
   },
   "source": [
    "### SVM"
   ]
  },
  {
   "cell_type": "code",
   "execution_count": 42,
   "id": "0d1557ca-324e-4c74-934d-a4891a28ae8b",
   "metadata": {
    "tags": []
   },
   "outputs": [],
   "source": [
    "from sklearn import svm\n",
    "svr = svm.SVR()"
   ]
  },
  {
   "cell_type": "code",
   "execution_count": 43,
   "id": "27cbc4de-3039-4e74-8558-fa872f076f53",
   "metadata": {
    "tags": []
   },
   "outputs": [
    {
     "data": {
      "text/html": [
       "<style>#sk-container-id-2 {color: black;}#sk-container-id-2 pre{padding: 0;}#sk-container-id-2 div.sk-toggleable {background-color: white;}#sk-container-id-2 label.sk-toggleable__label {cursor: pointer;display: block;width: 100%;margin-bottom: 0;padding: 0.3em;box-sizing: border-box;text-align: center;}#sk-container-id-2 label.sk-toggleable__label-arrow:before {content: \"▸\";float: left;margin-right: 0.25em;color: #696969;}#sk-container-id-2 label.sk-toggleable__label-arrow:hover:before {color: black;}#sk-container-id-2 div.sk-estimator:hover label.sk-toggleable__label-arrow:before {color: black;}#sk-container-id-2 div.sk-toggleable__content {max-height: 0;max-width: 0;overflow: hidden;text-align: left;background-color: #f0f8ff;}#sk-container-id-2 div.sk-toggleable__content pre {margin: 0.2em;color: black;border-radius: 0.25em;background-color: #f0f8ff;}#sk-container-id-2 input.sk-toggleable__control:checked~div.sk-toggleable__content {max-height: 200px;max-width: 100%;overflow: auto;}#sk-container-id-2 input.sk-toggleable__control:checked~label.sk-toggleable__label-arrow:before {content: \"▾\";}#sk-container-id-2 div.sk-estimator input.sk-toggleable__control:checked~label.sk-toggleable__label {background-color: #d4ebff;}#sk-container-id-2 div.sk-label input.sk-toggleable__control:checked~label.sk-toggleable__label {background-color: #d4ebff;}#sk-container-id-2 input.sk-hidden--visually {border: 0;clip: rect(1px 1px 1px 1px);clip: rect(1px, 1px, 1px, 1px);height: 1px;margin: -1px;overflow: hidden;padding: 0;position: absolute;width: 1px;}#sk-container-id-2 div.sk-estimator {font-family: monospace;background-color: #f0f8ff;border: 1px dotted black;border-radius: 0.25em;box-sizing: border-box;margin-bottom: 0.5em;}#sk-container-id-2 div.sk-estimator:hover {background-color: #d4ebff;}#sk-container-id-2 div.sk-parallel-item::after {content: \"\";width: 100%;border-bottom: 1px solid gray;flex-grow: 1;}#sk-container-id-2 div.sk-label:hover label.sk-toggleable__label {background-color: #d4ebff;}#sk-container-id-2 div.sk-serial::before {content: \"\";position: absolute;border-left: 1px solid gray;box-sizing: border-box;top: 0;bottom: 0;left: 50%;z-index: 0;}#sk-container-id-2 div.sk-serial {display: flex;flex-direction: column;align-items: center;background-color: white;padding-right: 0.2em;padding-left: 0.2em;position: relative;}#sk-container-id-2 div.sk-item {position: relative;z-index: 1;}#sk-container-id-2 div.sk-parallel {display: flex;align-items: stretch;justify-content: center;background-color: white;position: relative;}#sk-container-id-2 div.sk-item::before, #sk-container-id-2 div.sk-parallel-item::before {content: \"\";position: absolute;border-left: 1px solid gray;box-sizing: border-box;top: 0;bottom: 0;left: 50%;z-index: -1;}#sk-container-id-2 div.sk-parallel-item {display: flex;flex-direction: column;z-index: 1;position: relative;background-color: white;}#sk-container-id-2 div.sk-parallel-item:first-child::after {align-self: flex-end;width: 50%;}#sk-container-id-2 div.sk-parallel-item:last-child::after {align-self: flex-start;width: 50%;}#sk-container-id-2 div.sk-parallel-item:only-child::after {width: 0;}#sk-container-id-2 div.sk-dashed-wrapped {border: 1px dashed gray;margin: 0 0.4em 0.5em 0.4em;box-sizing: border-box;padding-bottom: 0.4em;background-color: white;}#sk-container-id-2 div.sk-label label {font-family: monospace;font-weight: bold;display: inline-block;line-height: 1.2em;}#sk-container-id-2 div.sk-label-container {text-align: center;}#sk-container-id-2 div.sk-container {/* jupyter's `normalize.less` sets `[hidden] { display: none; }` but bootstrap.min.css set `[hidden] { display: none !important; }` so we also need the `!important` here to be able to override the default hidden behavior on the sphinx rendered scikit-learn.org. See: https://github.com/scikit-learn/scikit-learn/issues/21755 */display: inline-block !important;position: relative;}#sk-container-id-2 div.sk-text-repr-fallback {display: none;}</style><div id=\"sk-container-id-2\" class=\"sk-top-container\"><div class=\"sk-text-repr-fallback\"><pre>SVR()</pre><b>In a Jupyter environment, please rerun this cell to show the HTML representation or trust the notebook. <br />On GitHub, the HTML representation is unable to render, please try loading this page with nbviewer.org.</b></div><div class=\"sk-container\" hidden><div class=\"sk-item\"><div class=\"sk-estimator sk-toggleable\"><input class=\"sk-toggleable__control sk-hidden--visually\" id=\"sk-estimator-id-2\" type=\"checkbox\" checked><label for=\"sk-estimator-id-2\" class=\"sk-toggleable__label sk-toggleable__label-arrow\">SVR</label><div class=\"sk-toggleable__content\"><pre>SVR()</pre></div></div></div></div></div>"
      ],
      "text/plain": [
       "SVR()"
      ]
     },
     "execution_count": 43,
     "metadata": {},
     "output_type": "execute_result"
    }
   ],
   "source": [
    "svr.fit(xtrain,ytrain)"
   ]
  },
  {
   "cell_type": "code",
   "execution_count": 44,
   "id": "7ccdd31c-af88-495f-983a-4279fab1c2d4",
   "metadata": {
    "tags": []
   },
   "outputs": [],
   "source": [
    "pred1 = svr.predict(xtest)"
   ]
  },
  {
   "cell_type": "code",
   "execution_count": 45,
   "id": "90e4b9f2-f93f-4f54-a8f4-663990acfda9",
   "metadata": {
    "tags": []
   },
   "outputs": [
    {
     "data": {
      "text/plain": [
       "0.9608237599343442"
      ]
     },
     "execution_count": 45,
     "metadata": {},
     "output_type": "execute_result"
    }
   ],
   "source": [
    "\n",
    "acc1 = r2_score(ytest, pred1)\n",
    "acc1"
   ]
  },
  {
   "cell_type": "code",
   "execution_count": 66,
   "id": "400a92ce-6e56-4078-8d3e-b9e6f7df9b5a",
   "metadata": {
    "tags": []
   },
   "outputs": [
    {
     "data": {
      "text/plain": [
       "0.04128152685561899"
      ]
     },
     "execution_count": 66,
     "metadata": {},
     "output_type": "execute_result"
    }
   ],
   "source": [
    "from sklearn.metrics import mean_squared_error\n",
    "\n",
    "rms = mean_squared_error(ytest, pred1, squared=False)\n",
    "rms"
   ]
  },
  {
   "cell_type": "code",
   "execution_count": 70,
   "id": "be80972d-d2e6-4e63-9b76-c8d7740c1594",
   "metadata": {
    "tags": []
   },
   "outputs": [
    {
     "data": {
      "text/plain": [
       "0.0017041644595311922"
      ]
     },
     "execution_count": 70,
     "metadata": {},
     "output_type": "execute_result"
    }
   ],
   "source": [
    "MSE = np.square(np.subtract(ytest,pred1)).mean() \n",
    "MSE"
   ]
  },
  {
   "cell_type": "markdown",
   "id": "6db1d7a5-4305-4aab-957c-2a019037931a",
   "metadata": {},
   "source": [
    "### LINEAR"
   ]
  },
  {
   "cell_type": "code",
   "execution_count": 46,
   "id": "ab860a83-6974-4830-a540-60ab72b55507",
   "metadata": {
    "tags": []
   },
   "outputs": [],
   "source": [
    "from sklearn import linear_model\n",
    "reg = linear_model.LinearRegression()"
   ]
  },
  {
   "cell_type": "code",
   "execution_count": 47,
   "id": "c7410cb2-c0cb-4f08-b6b4-e340fca38aa8",
   "metadata": {
    "tags": []
   },
   "outputs": [
    {
     "data": {
      "text/html": [
       "<style>#sk-container-id-3 {color: black;}#sk-container-id-3 pre{padding: 0;}#sk-container-id-3 div.sk-toggleable {background-color: white;}#sk-container-id-3 label.sk-toggleable__label {cursor: pointer;display: block;width: 100%;margin-bottom: 0;padding: 0.3em;box-sizing: border-box;text-align: center;}#sk-container-id-3 label.sk-toggleable__label-arrow:before {content: \"▸\";float: left;margin-right: 0.25em;color: #696969;}#sk-container-id-3 label.sk-toggleable__label-arrow:hover:before {color: black;}#sk-container-id-3 div.sk-estimator:hover label.sk-toggleable__label-arrow:before {color: black;}#sk-container-id-3 div.sk-toggleable__content {max-height: 0;max-width: 0;overflow: hidden;text-align: left;background-color: #f0f8ff;}#sk-container-id-3 div.sk-toggleable__content pre {margin: 0.2em;color: black;border-radius: 0.25em;background-color: #f0f8ff;}#sk-container-id-3 input.sk-toggleable__control:checked~div.sk-toggleable__content {max-height: 200px;max-width: 100%;overflow: auto;}#sk-container-id-3 input.sk-toggleable__control:checked~label.sk-toggleable__label-arrow:before {content: \"▾\";}#sk-container-id-3 div.sk-estimator input.sk-toggleable__control:checked~label.sk-toggleable__label {background-color: #d4ebff;}#sk-container-id-3 div.sk-label input.sk-toggleable__control:checked~label.sk-toggleable__label {background-color: #d4ebff;}#sk-container-id-3 input.sk-hidden--visually {border: 0;clip: rect(1px 1px 1px 1px);clip: rect(1px, 1px, 1px, 1px);height: 1px;margin: -1px;overflow: hidden;padding: 0;position: absolute;width: 1px;}#sk-container-id-3 div.sk-estimator {font-family: monospace;background-color: #f0f8ff;border: 1px dotted black;border-radius: 0.25em;box-sizing: border-box;margin-bottom: 0.5em;}#sk-container-id-3 div.sk-estimator:hover {background-color: #d4ebff;}#sk-container-id-3 div.sk-parallel-item::after {content: \"\";width: 100%;border-bottom: 1px solid gray;flex-grow: 1;}#sk-container-id-3 div.sk-label:hover label.sk-toggleable__label {background-color: #d4ebff;}#sk-container-id-3 div.sk-serial::before {content: \"\";position: absolute;border-left: 1px solid gray;box-sizing: border-box;top: 0;bottom: 0;left: 50%;z-index: 0;}#sk-container-id-3 div.sk-serial {display: flex;flex-direction: column;align-items: center;background-color: white;padding-right: 0.2em;padding-left: 0.2em;position: relative;}#sk-container-id-3 div.sk-item {position: relative;z-index: 1;}#sk-container-id-3 div.sk-parallel {display: flex;align-items: stretch;justify-content: center;background-color: white;position: relative;}#sk-container-id-3 div.sk-item::before, #sk-container-id-3 div.sk-parallel-item::before {content: \"\";position: absolute;border-left: 1px solid gray;box-sizing: border-box;top: 0;bottom: 0;left: 50%;z-index: -1;}#sk-container-id-3 div.sk-parallel-item {display: flex;flex-direction: column;z-index: 1;position: relative;background-color: white;}#sk-container-id-3 div.sk-parallel-item:first-child::after {align-self: flex-end;width: 50%;}#sk-container-id-3 div.sk-parallel-item:last-child::after {align-self: flex-start;width: 50%;}#sk-container-id-3 div.sk-parallel-item:only-child::after {width: 0;}#sk-container-id-3 div.sk-dashed-wrapped {border: 1px dashed gray;margin: 0 0.4em 0.5em 0.4em;box-sizing: border-box;padding-bottom: 0.4em;background-color: white;}#sk-container-id-3 div.sk-label label {font-family: monospace;font-weight: bold;display: inline-block;line-height: 1.2em;}#sk-container-id-3 div.sk-label-container {text-align: center;}#sk-container-id-3 div.sk-container {/* jupyter's `normalize.less` sets `[hidden] { display: none; }` but bootstrap.min.css set `[hidden] { display: none !important; }` so we also need the `!important` here to be able to override the default hidden behavior on the sphinx rendered scikit-learn.org. See: https://github.com/scikit-learn/scikit-learn/issues/21755 */display: inline-block !important;position: relative;}#sk-container-id-3 div.sk-text-repr-fallback {display: none;}</style><div id=\"sk-container-id-3\" class=\"sk-top-container\"><div class=\"sk-text-repr-fallback\"><pre>LinearRegression()</pre><b>In a Jupyter environment, please rerun this cell to show the HTML representation or trust the notebook. <br />On GitHub, the HTML representation is unable to render, please try loading this page with nbviewer.org.</b></div><div class=\"sk-container\" hidden><div class=\"sk-item\"><div class=\"sk-estimator sk-toggleable\"><input class=\"sk-toggleable__control sk-hidden--visually\" id=\"sk-estimator-id-3\" type=\"checkbox\" checked><label for=\"sk-estimator-id-3\" class=\"sk-toggleable__label sk-toggleable__label-arrow\">LinearRegression</label><div class=\"sk-toggleable__content\"><pre>LinearRegression()</pre></div></div></div></div></div>"
      ],
      "text/plain": [
       "LinearRegression()"
      ]
     },
     "execution_count": 47,
     "metadata": {},
     "output_type": "execute_result"
    }
   ],
   "source": [
    "reg.fit(xtrain,ytrain)"
   ]
  },
  {
   "cell_type": "code",
   "execution_count": 48,
   "id": "07cfcd95-f4b1-4fbd-a6f5-a3caf0415c01",
   "metadata": {
    "tags": []
   },
   "outputs": [],
   "source": [
    "pred = reg.predict(xtest)"
   ]
  },
  {
   "cell_type": "code",
   "execution_count": 49,
   "id": "94182987-d42f-4a4e-8b47-15b7d1b2ca86",
   "metadata": {
    "tags": []
   },
   "outputs": [],
   "source": [
    "from sklearn.metrics import r2_score"
   ]
  },
  {
   "cell_type": "code",
   "execution_count": 50,
   "id": "522cb03b-cc79-4cd1-a65d-4419072a90dc",
   "metadata": {
    "tags": []
   },
   "outputs": [
    {
     "data": {
      "text/plain": [
       "0.9634847571285831"
      ]
     },
     "execution_count": 50,
     "metadata": {},
     "output_type": "execute_result"
    }
   ],
   "source": [
    "acc = r2_score(ytest, pred)\n",
    "acc"
   ]
  },
  {
   "cell_type": "code",
   "execution_count": 67,
   "id": "8046e1e4-d87c-4153-80b2-43863bf92d96",
   "metadata": {
    "tags": []
   },
   "outputs": [
    {
     "data": {
      "text/plain": [
       "0.03985487694494449"
      ]
     },
     "execution_count": 67,
     "metadata": {},
     "output_type": "execute_result"
    }
   ],
   "source": [
    "rms = mean_squared_error(ytest, pred, squared=False)\n",
    "rms"
   ]
  },
  {
   "cell_type": "code",
   "execution_count": 71,
   "id": "f7526b96-cf19-4489-81eb-7601f8ddc7d1",
   "metadata": {
    "tags": []
   },
   "outputs": [
    {
     "data": {
      "text/plain": [
       "0.001588411216296668"
      ]
     },
     "execution_count": 71,
     "metadata": {},
     "output_type": "execute_result"
    }
   ],
   "source": [
    "MSE = np.square(np.subtract(ytest,pred)).mean() \n",
    "MSE"
   ]
  },
  {
   "cell_type": "markdown",
   "id": "b7811aa3-3484-4dff-9ec3-9f4e83456961",
   "metadata": {
    "tags": []
   },
   "source": [
    "### DESICION TREE"
   ]
  },
  {
   "cell_type": "code",
   "execution_count": 51,
   "id": "e5db73f7-1131-4602-a9d2-ff89f5733145",
   "metadata": {
    "tags": []
   },
   "outputs": [],
   "source": [
    "from sklearn import tree"
   ]
  },
  {
   "cell_type": "code",
   "execution_count": 52,
   "id": "0563beeb-e8c8-46de-8344-23548148cd7f",
   "metadata": {
    "tags": []
   },
   "outputs": [],
   "source": [
    "clf = tree.DecisionTreeRegressor()\n",
    "clf=clf.fit(xtrain,ytrain)"
   ]
  },
  {
   "cell_type": "code",
   "execution_count": 53,
   "id": "08d20e86-0307-4e3a-b2c0-18491c12eddb",
   "metadata": {
    "tags": []
   },
   "outputs": [],
   "source": [
    "pread2=clf.predict(xtest)"
   ]
  },
  {
   "cell_type": "code",
   "execution_count": 54,
   "id": "09d00b1b-2c78-4835-8e4c-b26ad7147d48",
   "metadata": {
    "tags": []
   },
   "outputs": [
    {
     "data": {
      "text/plain": [
       "0.9273746649264345"
      ]
     },
     "execution_count": 54,
     "metadata": {},
     "output_type": "execute_result"
    }
   ],
   "source": [
    "acc2 = r2_score(ytest, pread2)\n",
    "acc2\n"
   ]
  },
  {
   "cell_type": "code",
   "execution_count": 72,
   "id": "3239fd7a-8181-41fb-8337-f8e059f878ef",
   "metadata": {
    "tags": []
   },
   "outputs": [
    {
     "data": {
      "text/plain": [
       "0.056206746916995606"
      ]
     },
     "execution_count": 72,
     "metadata": {},
     "output_type": "execute_result"
    }
   ],
   "source": [
    "rms = mean_squared_error(ytest, pread2, squared=False)\n",
    "rms"
   ]
  },
  {
   "cell_type": "code",
   "execution_count": 73,
   "id": "b1ebfc0d-0f43-4595-9662-9160abf3723d",
   "metadata": {
    "tags": []
   },
   "outputs": [
    {
     "data": {
      "text/plain": [
       "0.003159198398991195"
      ]
     },
     "execution_count": 73,
     "metadata": {},
     "output_type": "execute_result"
    }
   ],
   "source": [
    "MSE = np.square(np.subtract(ytest,pread2)).mean() \n",
    "MSE"
   ]
  },
  {
   "cell_type": "markdown",
   "id": "3e417625-8f11-4f7f-bb5c-de372c28441c",
   "metadata": {},
   "source": [
    "### RANDOM FOREST"
   ]
  },
  {
   "cell_type": "code",
   "execution_count": 60,
   "id": "b52b9d62-3724-4016-b019-384e5cd1cdc9",
   "metadata": {},
   "outputs": [],
   "source": [
    "from sklearn.ensemble import RandomForestRegressor\n",
    "ram=RandomForestRegressor()\n",
    "ram=ram.fit(xtrain,ytrain)"
   ]
  },
  {
   "cell_type": "code",
   "execution_count": 61,
   "id": "e7983c8e-d857-4449-a53e-93ebdf63b0ce",
   "metadata": {
    "tags": []
   },
   "outputs": [],
   "source": [
    "pread3=ram.predict(xtest)"
   ]
  },
  {
   "cell_type": "code",
   "execution_count": 62,
   "id": "36765d39-0e6f-45e7-b644-9689ea84dd8e",
   "metadata": {
    "tags": []
   },
   "outputs": [
    {
     "data": {
      "text/plain": [
       "0.9592745135733542"
      ]
     },
     "execution_count": 62,
     "metadata": {},
     "output_type": "execute_result"
    }
   ],
   "source": [
    "acc3= r2_score(ytest, pread3)\n",
    "acc3\n"
   ]
  },
  {
   "cell_type": "code",
   "execution_count": 63,
   "id": "6ae9b142-fa99-42db-ba3c-c019023821a4",
   "metadata": {
    "tags": []
   },
   "outputs": [],
   "source": [
    "MSE = np.square(np.subtract(ytest,pread3)).mean() "
   ]
  },
  {
   "cell_type": "code",
   "execution_count": 64,
   "id": "a91fee41-90ec-4e09-bb27-8f8c1b36a24a",
   "metadata": {
    "tags": []
   },
   "outputs": [
    {
     "data": {
      "text/plain": [
       "0.0017715565978025651"
      ]
     },
     "execution_count": 64,
     "metadata": {},
     "output_type": "execute_result"
    }
   ],
   "source": [
    "MSE "
   ]
  },
  {
   "cell_type": "code",
   "execution_count": 74,
   "id": "735b5486-64ae-42ae-8726-a433409e3284",
   "metadata": {},
   "outputs": [
    {
     "data": {
      "text/plain": [
       "0.04208986336165235"
      ]
     },
     "execution_count": 74,
     "metadata": {},
     "output_type": "execute_result"
    }
   ],
   "source": [
    "rms = mean_squared_error(ytest, pread3, squared=False)\n",
    "rms"
   ]
  },
  {
   "cell_type": "code",
   "execution_count": 77,
   "id": "16156f5c-d6e8-490b-aa16-0e3a7fbe85a3",
   "metadata": {
    "tags": []
   },
   "outputs": [
    {
     "name": "stdout",
     "output_type": "stream",
     "text": [
      "acc is: 0.9634847571285831\n",
      "rmse is: 0.03985487694494449\n",
      "mse is 0.001588411216296668\n"
     ]
    }
   ],
   "source": [
    "from sklearn import linear_model\n",
    "reg = linear_model.LinearRegression()\n",
    "reg.fit(xtrain,ytrain)\n",
    "pred = reg.predict(xtest)\n",
    "from sklearn.metrics import r2_score\n",
    "acc = r2_score(ytest, pred)\n",
    "print ('acc is:',acc)\n",
    "rms = mean_squared_error(ytest, pred, squared=False)\n",
    "print(\"rmse is:\",rms)\n",
    "MSE = np.square(np.subtract(ytest,pred)).mean() \n",
    "print(\"mse is\",MSE)"
   ]
  },
  {
   "cell_type": "code",
   "execution_count": 79,
   "id": "11a55446-1de4-4e9e-aa1b-9dba355fc8c2",
   "metadata": {
    "tags": []
   },
   "outputs": [
    {
     "name": "stdout",
     "output_type": "stream",
     "text": [
      "Model saved as Linear_regression_model.joblib\n"
     ]
    }
   ],
   "source": [
    "# Save the model\n",
    "from joblib import dump, load  # Importing joblib for saving and loading models\n",
    "model_file = 'Linear_regression_model.joblib'\n",
    "dump(reg, model_file)\n",
    "print(f\"Model saved as {model_file}\")"
   ]
  },
  {
   "cell_type": "code",
   "execution_count": 83,
   "id": "d5c4108e-29f7-4075-bf18-5da14e319b21",
   "metadata": {
    "tags": []
   },
   "outputs": [
    {
     "data": {
      "text/html": [
       "<div>\n",
       "<style scoped>\n",
       "    .dataframe tbody tr th:only-of-type {\n",
       "        vertical-align: middle;\n",
       "    }\n",
       "\n",
       "    .dataframe tbody tr th {\n",
       "        vertical-align: top;\n",
       "    }\n",
       "\n",
       "    .dataframe thead th {\n",
       "        text-align: right;\n",
       "    }\n",
       "</style>\n",
       "<table border=\"1\" class=\"dataframe\">\n",
       "  <thead>\n",
       "    <tr style=\"text-align: right;\">\n",
       "      <th></th>\n",
       "      <th>SoilMoisture</th>\n",
       "      <th>SoilTemperature</th>\n",
       "      <th>AirTemperature</th>\n",
       "      <th>Humidity</th>\n",
       "      <th>pH</th>\n",
       "      <th>WaterUsage</th>\n",
       "      <th>CropType</th>\n",
       "      <th>IrrigationSystemID</th>\n",
       "      <th>ReadingTimestamp</th>\n",
       "      <th>SolarRadiation</th>\n",
       "      <th>WindSpeed</th>\n",
       "    </tr>\n",
       "    <tr>\n",
       "      <th>FieldID</th>\n",
       "      <th></th>\n",
       "      <th></th>\n",
       "      <th></th>\n",
       "      <th></th>\n",
       "      <th></th>\n",
       "      <th></th>\n",
       "      <th></th>\n",
       "      <th></th>\n",
       "      <th></th>\n",
       "      <th></th>\n",
       "      <th></th>\n",
       "    </tr>\n",
       "  </thead>\n",
       "  <tbody>\n",
       "    <tr>\n",
       "      <th>1</th>\n",
       "      <td>0.935726</td>\n",
       "      <td>0.757060</td>\n",
       "      <td>0.769950</td>\n",
       "      <td>0.686366</td>\n",
       "      <td>0.344509</td>\n",
       "      <td>0.845088</td>\n",
       "      <td>4</td>\n",
       "      <td>0.975528</td>\n",
       "      <td>2023-01-01 00:00:00</td>\n",
       "      <td>0.807273</td>\n",
       "      <td>0.647689</td>\n",
       "    </tr>\n",
       "    <tr>\n",
       "      <th>2</th>\n",
       "      <td>0.485198</td>\n",
       "      <td>0.496225</td>\n",
       "      <td>0.477832</td>\n",
       "      <td>0.379508</td>\n",
       "      <td>0.236300</td>\n",
       "      <td>0.412192</td>\n",
       "      <td>5</td>\n",
       "      <td>0.372636</td>\n",
       "      <td>2023-01-01 01:00:00</td>\n",
       "      <td>0.478389</td>\n",
       "      <td>0.504933</td>\n",
       "    </tr>\n",
       "    <tr>\n",
       "      <th>3</th>\n",
       "      <td>0.087862</td>\n",
       "      <td>0.262002</td>\n",
       "      <td>0.248452</td>\n",
       "      <td>0.481534</td>\n",
       "      <td>0.670746</td>\n",
       "      <td>0.247295</td>\n",
       "      <td>1</td>\n",
       "      <td>0.922136</td>\n",
       "      <td>2023-01-01 02:00:00</td>\n",
       "      <td>0.239041</td>\n",
       "      <td>0.379678</td>\n",
       "    </tr>\n",
       "    <tr>\n",
       "      <th>4</th>\n",
       "      <td>0.803463</td>\n",
       "      <td>0.765948</td>\n",
       "      <td>0.770806</td>\n",
       "      <td>0.740246</td>\n",
       "      <td>0.604508</td>\n",
       "      <td>0.759745</td>\n",
       "      <td>4</td>\n",
       "      <td>0.305895</td>\n",
       "      <td>2023-01-01 03:00:00</td>\n",
       "      <td>0.737629</td>\n",
       "      <td>0.566876</td>\n",
       "    </tr>\n",
       "    <tr>\n",
       "      <th>5</th>\n",
       "      <td>0.713040</td>\n",
       "      <td>0.575857</td>\n",
       "      <td>0.565526</td>\n",
       "      <td>0.763945</td>\n",
       "      <td>0.815056</td>\n",
       "      <td>0.722071</td>\n",
       "      <td>5</td>\n",
       "      <td>0.571746</td>\n",
       "      <td>2023-01-01 04:00:00</td>\n",
       "      <td>0.573357</td>\n",
       "      <td>0.645390</td>\n",
       "    </tr>\n",
       "    <tr>\n",
       "      <th>...</th>\n",
       "      <td>...</td>\n",
       "      <td>...</td>\n",
       "      <td>...</td>\n",
       "      <td>...</td>\n",
       "      <td>...</td>\n",
       "      <td>...</td>\n",
       "      <td>...</td>\n",
       "      <td>...</td>\n",
       "      <td>...</td>\n",
       "      <td>...</td>\n",
       "      <td>...</td>\n",
       "    </tr>\n",
       "    <tr>\n",
       "      <th>9996</th>\n",
       "      <td>0.161412</td>\n",
       "      <td>0.205583</td>\n",
       "      <td>0.212381</td>\n",
       "      <td>0.307225</td>\n",
       "      <td>0.836655</td>\n",
       "      <td>0.229106</td>\n",
       "      <td>4</td>\n",
       "      <td>0.952169</td>\n",
       "      <td>2024-02-21 11:00:00</td>\n",
       "      <td>0.194677</td>\n",
       "      <td>0.471210</td>\n",
       "    </tr>\n",
       "    <tr>\n",
       "      <th>9997</th>\n",
       "      <td>0.320871</td>\n",
       "      <td>0.402054</td>\n",
       "      <td>0.395314</td>\n",
       "      <td>0.389259</td>\n",
       "      <td>0.880621</td>\n",
       "      <td>0.346875</td>\n",
       "      <td>4</td>\n",
       "      <td>0.909900</td>\n",
       "      <td>2024-02-21 12:00:00</td>\n",
       "      <td>0.373393</td>\n",
       "      <td>0.472622</td>\n",
       "    </tr>\n",
       "    <tr>\n",
       "      <th>9998</th>\n",
       "      <td>0.403117</td>\n",
       "      <td>0.434069</td>\n",
       "      <td>0.405349</td>\n",
       "      <td>0.378023</td>\n",
       "      <td>0.707683</td>\n",
       "      <td>0.348273</td>\n",
       "      <td>1</td>\n",
       "      <td>0.836485</td>\n",
       "      <td>2024-02-21 13:00:00</td>\n",
       "      <td>0.403008</td>\n",
       "      <td>0.499821</td>\n",
       "    </tr>\n",
       "    <tr>\n",
       "      <th>9999</th>\n",
       "      <td>0.180657</td>\n",
       "      <td>0.313988</td>\n",
       "      <td>0.336433</td>\n",
       "      <td>0.513945</td>\n",
       "      <td>0.992296</td>\n",
       "      <td>0.360705</td>\n",
       "      <td>2</td>\n",
       "      <td>0.283648</td>\n",
       "      <td>2024-02-21 14:00:00</td>\n",
       "      <td>0.320830</td>\n",
       "      <td>0.548211</td>\n",
       "    </tr>\n",
       "    <tr>\n",
       "      <th>10000</th>\n",
       "      <td>0.249762</td>\n",
       "      <td>0.449546</td>\n",
       "      <td>0.417137</td>\n",
       "      <td>0.542466</td>\n",
       "      <td>0.273064</td>\n",
       "      <td>0.361375</td>\n",
       "      <td>4</td>\n",
       "      <td>0.328142</td>\n",
       "      <td>2024-02-21 15:00:00</td>\n",
       "      <td>0.383981</td>\n",
       "      <td>0.547806</td>\n",
       "    </tr>\n",
       "  </tbody>\n",
       "</table>\n",
       "<p>10000 rows × 11 columns</p>\n",
       "</div>"
      ],
      "text/plain": [
       "         SoilMoisture  SoilTemperature  AirTemperature  Humidity        pH  \\\n",
       "FieldID                                                                      \n",
       "1            0.935726         0.757060        0.769950  0.686366  0.344509   \n",
       "2            0.485198         0.496225        0.477832  0.379508  0.236300   \n",
       "3            0.087862         0.262002        0.248452  0.481534  0.670746   \n",
       "4            0.803463         0.765948        0.770806  0.740246  0.604508   \n",
       "5            0.713040         0.575857        0.565526  0.763945  0.815056   \n",
       "...               ...              ...             ...       ...       ...   \n",
       "9996         0.161412         0.205583        0.212381  0.307225  0.836655   \n",
       "9997         0.320871         0.402054        0.395314  0.389259  0.880621   \n",
       "9998         0.403117         0.434069        0.405349  0.378023  0.707683   \n",
       "9999         0.180657         0.313988        0.336433  0.513945  0.992296   \n",
       "10000        0.249762         0.449546        0.417137  0.542466  0.273064   \n",
       "\n",
       "         WaterUsage  CropType  IrrigationSystemID    ReadingTimestamp  \\\n",
       "FieldID                                                                 \n",
       "1          0.845088         4            0.975528 2023-01-01 00:00:00   \n",
       "2          0.412192         5            0.372636 2023-01-01 01:00:00   \n",
       "3          0.247295         1            0.922136 2023-01-01 02:00:00   \n",
       "4          0.759745         4            0.305895 2023-01-01 03:00:00   \n",
       "5          0.722071         5            0.571746 2023-01-01 04:00:00   \n",
       "...             ...       ...                 ...                 ...   \n",
       "9996       0.229106         4            0.952169 2024-02-21 11:00:00   \n",
       "9997       0.346875         4            0.909900 2024-02-21 12:00:00   \n",
       "9998       0.348273         1            0.836485 2024-02-21 13:00:00   \n",
       "9999       0.360705         2            0.283648 2024-02-21 14:00:00   \n",
       "10000      0.361375         4            0.328142 2024-02-21 15:00:00   \n",
       "\n",
       "         SolarRadiation  WindSpeed  \n",
       "FieldID                             \n",
       "1              0.807273   0.647689  \n",
       "2              0.478389   0.504933  \n",
       "3              0.239041   0.379678  \n",
       "4              0.737629   0.566876  \n",
       "5              0.573357   0.645390  \n",
       "...                 ...        ...  \n",
       "9996           0.194677   0.471210  \n",
       "9997           0.373393   0.472622  \n",
       "9998           0.403008   0.499821  \n",
       "9999           0.320830   0.548211  \n",
       "10000          0.383981   0.547806  \n",
       "\n",
       "[10000 rows x 11 columns]"
      ]
     },
     "execution_count": 83,
     "metadata": {},
     "output_type": "execute_result"
    }
   ],
   "source": [
    "df"
   ]
  },
  {
   "cell_type": "code",
   "execution_count": null,
   "id": "43ebff20-a860-4118-8ca2-035f043f6d8f",
   "metadata": {},
   "outputs": [],
   "source": []
  }
 ],
 "metadata": {
  "kernelspec": {
   "display_name": "Python 3 (ipykernel)",
   "language": "python",
   "name": "python3"
  },
  "language_info": {
   "codemirror_mode": {
    "name": "ipython",
    "version": 3
   },
   "file_extension": ".py",
   "mimetype": "text/x-python",
   "name": "python",
   "nbconvert_exporter": "python",
   "pygments_lexer": "ipython3",
   "version": "3.11.5"
  }
 },
 "nbformat": 4,
 "nbformat_minor": 5
}
